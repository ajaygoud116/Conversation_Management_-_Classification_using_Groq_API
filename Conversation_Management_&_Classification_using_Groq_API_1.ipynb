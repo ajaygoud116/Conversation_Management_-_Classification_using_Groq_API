{
  "nbformat": 4,
  "nbformat_minor": 0,
  "metadata": {
    "colab": {
      "provenance": []
    },
    "kernelspec": {
      "name": "python3",
      "display_name": "Python 3"
    },
    "language_info": {
      "name": "python"
    }
  },
  "cells": [
    {
      "cell_type": "code",
      "source": [
        "import os\n",
        "\n",
        "# Create a folder inside /content\n",
        "os.makedirs(\"/content/my_folder\", exist_ok=True)\n",
        "\n",
        "print(\"Folder created at:\", os.path.abspath(\"/content/my_folder\"))\n"
      ],
      "metadata": {
        "colab": {
          "base_uri": "https://localhost:8080/"
        },
        "id": "T-JPlA52BLk8",
        "outputId": "b5c68185-4d60-4f30-f67b-f452137504f0"
      },
      "execution_count": 115,
      "outputs": [
        {
          "output_type": "stream",
          "name": "stdout",
          "text": [
            "Folder created at: /content/my_folder\n"
          ]
        }
      ]
    },
    {
      "cell_type": "markdown",
      "source": [
        "Task 1: conversation management & summarization"
      ],
      "metadata": {
        "id": "tZvGZvCqFFEm"
      }
    },
    {
      "cell_type": "code",
      "source": [
        "import time\n",
        "import re"
      ],
      "metadata": {
        "id": "VygJJd3DFLB9"
      },
      "execution_count": 116,
      "outputs": []
    },
    {
      "cell_type": "code",
      "source": [
        "chat_history = []\n",
        "def add_message(role, text):\n",
        "    chat_history.append({\n",
        "        \"role\": role,\n",
        "        \"text\": text,\n",
        "        \"time\": time.strftime(\"%Y-%m-%d %H:%M:%S\")\n",
        "    })"
      ],
      "metadata": {
        "id": "q6gPJsX6HUL6"
      },
      "execution_count": 117,
      "outputs": []
    },
    {
      "cell_type": "code",
      "source": [
        "stopwords = {\"the\",\"is\",\"and\",\"a\",\"an\",\"of\",\"in\",\"on\",\"to\",\"for\",\"with\",\"at\",\"by\",\"it\"}\n",
        "def tokenize(text):\n",
        "    text = text.lower()\n",
        "    # print(\"Lowercased:\", text)\n",
        "\n",
        "    text = re.sub(r\"[^a-z0-9\\s]\", \"\", text) #removing puntuations\n",
        "    # print(\"Cleaned:\", text)\n",
        "\n",
        "    words = re.findall(r\"\\b\\w+\\b\", text)\n",
        "    tokens = [w for w in words if w not in stopwords]\n",
        "\n",
        "    return tokens"
      ],
      "metadata": {
        "id": "pKnvzWjEH5uO"
      },
      "execution_count": 118,
      "outputs": []
    },
    {
      "cell_type": "code",
      "source": [
        "# step 1: split into sentences\n",
        "# step 2: count word frequency\n",
        "# step 3: give each sentence a score\n",
        "# step 4: pick top sentences\n",
        "\n",
        "def split_sentences(text):\n",
        "    return re.split(r'[.!?]', text)\n",
        "\n",
        "def summarize_history(max_sent=2):\n",
        "    #step-1\n",
        "    all_text = \" \".join([m[\"text\"] for m in chat_history if m[\"role\"]!=\"system\"])\n",
        "    sentences = split_sentences(all_text)\n",
        "\n",
        "    #step-2\n",
        "    freq = {}\n",
        "    for w in tokenize(all_text):\n",
        "        freq[w] = freq.get(w,0)+1\n",
        "\n",
        "    #step-3\n",
        "    scores = {}\n",
        "    for s in sentences:\n",
        "        score = 0\n",
        "        for w in tokenize(s):\n",
        "            score =score+ freq.get(w,0)\n",
        "        scores[s] = score\n",
        "\n",
        "    #step-4\n",
        "    sorted_sents = sorted(scores.items(), key=lambda x:x[1], reverse=True)\n",
        "    top_sents = [s for s,_ in sorted_sents[:max_sent]]\n",
        "    return \" \".join(top_sents).strip()\n"
      ],
      "metadata": {
        "id": "dplxe4TlJRjP"
      },
      "execution_count": 119,
      "outputs": []
    },
    {
      "cell_type": "code",
      "source": [
        "run_count = 0\n",
        "k_value = 3   # after every 3 runs, summarize\n",
        "\n",
        "def add_turn(user_msg, assistant_msg):\n",
        "    global run_count\n",
        "    add_message(\"user\", user_msg)\n",
        "    add_message(\"assistant\", assistant_msg)\n",
        "    run_count += 1\n",
        "\n",
        "    if run_count % k_value == 0:\n",
        "        summary = summarize_history(max_sent=2)\n",
        "        chat_history.clear()\n",
        "        add_message(\"system\", \"Summary: \" + summary)\n"
      ],
      "metadata": {
        "id": "u6e8UsBgKAGr"
      },
      "execution_count": 120,
      "outputs": []
    },
    {
      "cell_type": "code",
      "source": [
        "def truncate_by_turns(n):\n",
        "    return chat_history[-n:]\n",
        "\n",
        "def truncate_by_words(max_words):\n",
        "    out = []\n",
        "    total = 0\n",
        "    for m in reversed(chat_history):\n",
        "        words = m[\"text\"].split()\n",
        "        if total + len(words) <= max_words:\n",
        "            out.insert(0, m)\n",
        "            total += len(words)\n",
        "        else:\n",
        "            break\n",
        "    return out\n",
        "\n",
        "def truncate_by_chars(max_chars):\n",
        "    out = []\n",
        "    total = 0\n",
        "    for m in reversed(chat_history):\n",
        "        if total + len(m[\"text\"]) <= max_chars:\n",
        "            out.insert(0, m)\n",
        "            total += len(m[\"text\"])\n",
        "        else:\n",
        "            break\n",
        "    return out\n"
      ],
      "metadata": {
        "id": "5vKz2VLUKtjd"
      },
      "execution_count": 121,
      "outputs": []
    },
    {
      "cell_type": "code",
      "source": [
        "#display fucntion\n",
        "def show_chat():\n",
        "    for i, msg in enumerate(chat_history, 1):\n",
        "        print(f\"{i}. [{msg['role']}] {msg['text']} ({msg['time']})\")\n"
      ],
      "metadata": {
        "id": "IL4aZf2mLGQS"
      },
      "execution_count": 122,
      "outputs": []
    },
    {
      "cell_type": "code",
      "source": [
        "# now i will test the functions step by step\n",
        "\n",
        "add_turn(\"Hi, I am Ajay. Laptop battery draining fast.\", \"Oh sorry, since when?\")\n",
        "add_turn(\"Around 1 year. It lasts 1 hour only.\", \"Ok, does charging light stay solid?\")\n",
        "add_turn(\"Yes, but laptop heats up too.\", \"Sounds like battery issue, may need replacement.\")\n",
        "\n",
        "print(\"Chat after 3rd run (should be summarized):\")\n",
        "show_chat()\n",
        "\n",
        "# add more to see history grow again\n",
        "add_turn(\"Can I claim warranty?\", \"Depends, when did you buy?\")\n",
        "add_turn(\"Bought online on Aug 2024. My email is ajaygoud738780@gmail.com\", \"Ok, let's escalate to team.\")\n",
        "\n",
        "print(\"\\nNow full chat history:\")\n",
        "show_chat()\n",
        "\n",
        "print(\"\\nTruncate by last 4 messages:\")\n",
        "for msg in truncate_by_turns(4):\n",
        "    print(msg)\n",
        "\n",
        "print(\"\\nTruncate by 30 words:\")\n",
        "for msg in truncate_by_words(30):\n",
        "    print(msg)\n",
        "\n",
        "print(\"\\nTruncate by 150 characters:\")\n",
        "for msg in truncate_by_chars(150):\n",
        "    print(msg)\n"
      ],
      "metadata": {
        "colab": {
          "base_uri": "https://localhost:8080/"
        },
        "id": "tFN-TiuALabh",
        "outputId": "d9ba5696-49e6-40e3-8d37-7bdd78325ec1"
      },
      "execution_count": 123,
      "outputs": [
        {
          "output_type": "stream",
          "name": "stdout",
          "text": [
            "Chat after 3rd run (should be summarized):\n",
            "1. [system] Summary: Sounds like battery issue, may need replacement  Yes, but laptop heats up too (2025-09-13 18:33:57)\n",
            "\n",
            "Now full chat history:\n",
            "1. [system] Summary: Sounds like battery issue, may need replacement  Yes, but laptop heats up too (2025-09-13 18:33:57)\n",
            "2. [user] Can I claim warranty? (2025-09-13 18:33:57)\n",
            "3. [assistant] Depends, when did you buy? (2025-09-13 18:33:57)\n",
            "4. [user] Bought online on Aug 2024. My email is ajaygoud738780@gmail.com (2025-09-13 18:33:57)\n",
            "5. [assistant] Ok, let's escalate to team. (2025-09-13 18:33:57)\n",
            "\n",
            "Truncate by last 4 messages:\n",
            "{'role': 'user', 'text': 'Can I claim warranty?', 'time': '2025-09-13 18:33:57'}\n",
            "{'role': 'assistant', 'text': 'Depends, when did you buy?', 'time': '2025-09-13 18:33:57'}\n",
            "{'role': 'user', 'text': 'Bought online on Aug 2024. My email is ajaygoud738780@gmail.com', 'time': '2025-09-13 18:33:57'}\n",
            "{'role': 'assistant', 'text': \"Ok, let's escalate to team.\", 'time': '2025-09-13 18:33:57'}\n",
            "\n",
            "Truncate by 30 words:\n",
            "{'role': 'user', 'text': 'Can I claim warranty?', 'time': '2025-09-13 18:33:57'}\n",
            "{'role': 'assistant', 'text': 'Depends, when did you buy?', 'time': '2025-09-13 18:33:57'}\n",
            "{'role': 'user', 'text': 'Bought online on Aug 2024. My email is ajaygoud738780@gmail.com', 'time': '2025-09-13 18:33:57'}\n",
            "{'role': 'assistant', 'text': \"Ok, let's escalate to team.\", 'time': '2025-09-13 18:33:57'}\n",
            "\n",
            "Truncate by 150 characters:\n",
            "{'role': 'user', 'text': 'Can I claim warranty?', 'time': '2025-09-13 18:33:57'}\n",
            "{'role': 'assistant', 'text': 'Depends, when did you buy?', 'time': '2025-09-13 18:33:57'}\n",
            "{'role': 'user', 'text': 'Bought online on Aug 2024. My email is ajaygoud738780@gmail.com', 'time': '2025-09-13 18:33:57'}\n",
            "{'role': 'assistant', 'text': \"Ok, let's escalate to team.\", 'time': '2025-09-13 18:33:57'}\n"
          ]
        }
      ]
    },
    {
      "cell_type": "markdown",
      "source": [
        "Task 2: JSON Schema Classification & Information **Extraction**"
      ],
      "metadata": {
        "id": "F7vdaCsGNRXh"
      }
    },
    {
      "cell_type": "code",
      "source": [
        "import json\n",
        "from getpass import getpass\n",
        "from openai import OpenAI\n",
        "\n",
        "key = getpass(\"Enter your API key: \")\n",
        "client = OpenAI(api_key=key, base_url=\"https://api.groq.com/openai/v1\")"
      ],
      "metadata": {
        "id": "gdxZU_srNbb8"
      },
      "execution_count": null,
      "outputs": []
    },
    {
      "cell_type": "code",
      "source": [
        "functions = [\n",
        "    {\n",
        "        \"name\": \"extract_user_info\",\n",
        "        \"description\": \"Extract basic user info from conversation\",\n",
        "        \"parameters\": {\n",
        "            \"type\": \"object\",\n",
        "            \"properties\": {\n",
        "                \"name\": {\"type\": \"string\"},\n",
        "                \"email\": {\"type\": \"string\"},\n",
        "                \"phone\": {\"type\": \"string\"},\n",
        "                \"location\": {\"type\": \"string\"},\n",
        "                \"age\": {\"type\": \"integer\"}\n",
        "            },\n",
        "            \"required\": [\"name\",\"email\",\"phone\",\"location\",\"age\"]\n",
        "        }\n",
        "    }\n",
        "]\n"
      ],
      "metadata": {
        "id": "4G1__MyCOZx6"
      },
      "execution_count": null,
      "outputs": []
    },
    {
      "cell_type": "code",
      "source": [
        "def extract_info_from_chat(chat_text):\n",
        "    try:\n",
        "        response = client.chat.completions.create(\n",
        "            model=\"openai/gpt-oss-20b\",\n",
        "            messages=[{\"role\":\"user\",\"content\":chat_text}],\n",
        "            functions=functions,\n",
        "            function_call={\"name\":\"extract_user_info\"}\n",
        "        )\n",
        "        args = response.choices[0].message.function_call.arguments\n",
        "        return json.loads(args)\n",
        "    except Exception as e:\n",
        "        print(\"error:\", e)\n",
        "        return None\n"
      ],
      "metadata": {
        "id": "A721T7ekOWys"
      },
      "execution_count": null,
      "outputs": []
    },
    {
      "cell_type": "code",
      "source": [
        "from logging import exception\n",
        "# sample chats\n",
        "\n",
        "chat1 = \"Hello, my name is Ajay. I am 21 years old. I live in Bangalore. My email is ajay738780@gmail.com and my phone is 6305738780.\"\n",
        "chat2 = \"Hey, I am Priya from Delhi, 19 years old. You can reach me at priya99@yahoo.com or call 0123456789.\"\n",
        "chat3 = \"This is John. Age 25. Based in Mumbai. Email: john_doe@hotmail.com. Phone: 9998887776.\"\n",
        "\n",
        "for i, chat in enumerate([chat1, chat2, chat3], 1):\n",
        "    print(f\"--- Chat {i} ---\")\n",
        "    extracted = extract_info_from_chat(chat)\n",
        "    print(\"Extracted:\", extracted)\n",
        "\n",
        "    if extracted:\n",
        "        valid = all(k in extracted and extracted[k] for k in [\"name\",\"email\",\"phone\",\"location\",\"age\"])\n",
        "        print(\"Valid?\", valid)\n",
        "    else:\n",
        "        print(\"Extraction failed, skipping validation.\")\n",
        "    print()\n"
      ],
      "metadata": {
        "id": "5X2FnypjOnhG"
      },
      "execution_count": null,
      "outputs": []
    },
    {
      "cell_type": "code",
      "source": [],
      "metadata": {
        "id": "0MN0hChERiUJ"
      },
      "execution_count": null,
      "outputs": []
    }
  ]
}